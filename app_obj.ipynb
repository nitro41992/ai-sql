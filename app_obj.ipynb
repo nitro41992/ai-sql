{
 "cells": [
  {
   "cell_type": "code",
   "execution_count": null,
   "metadata": {},
   "outputs": [],
   "source": [
    "! pip install --upgrade --quiet python-dotenv llama-index-llms-openai llama-index llama-index-embeddings-openai"
   ]
  },
  {
   "cell_type": "code",
   "execution_count": 1,
   "metadata": {},
   "outputs": [
    {
     "data": {
      "text/plain": [
       "True"
      ]
     },
     "execution_count": 1,
     "metadata": {},
     "output_type": "execute_result"
    }
   ],
   "source": [
    "from llama_index.core.indices.struct_store import SQLTableRetrieverQueryEngine\n",
    "from llama_index.core import VectorStoreIndex, SQLDatabase, Settings\n",
    "from llama_index.llms.openai import OpenAI\n",
    "from llama_index.embeddings.openai import OpenAIEmbedding\n",
    "from llama_index.core.query_engine import NLSQLTableQueryEngine\n",
    "\n",
    "from llama_index.core.objects import (\n",
    "    SQLTableNodeMapping,\n",
    "    ObjectIndex,\n",
    "    SQLTableSchema,\n",
    ")\n",
    "\n",
    "from sqlalchemy import (\n",
    "    create_engine,\n",
    "    text\n",
    ")\n",
    "\n",
    "import os\n",
    "from dotenv import load_dotenv\n",
    "load_dotenv()"
   ]
  },
  {
   "cell_type": "markdown",
   "metadata": {},
   "source": [
    "### In this document\n",
    "The first few cells go over the general SQL query engine provided by llamaindex. It will demonstrate how to get started via SQL Alchemy and the limitations of NLSQLTableQueryEngine.\n",
    "You will see that because of context window limitations, you will either hit context window limits or the resulting query will not work because of model confusion due to the large amount of tables and/or columns.\n",
    "\n",
    "### The dataset used\n",
    "I chose [this database](https://www.kaggle.com/datasets/wyattowalsh/basketball) from Kaggle because it contained 16 tables with 682 columns. The dataset was Last Updated on Thurs, July 26th, 2023. Download the database and bring the .sqlite file into the directory.\n",
    "\n",
    "### Reference Documentation\n",
    "Im going through [this](https://docs.llamaindex.ai/en/stable/examples/index_structs/struct_indices/duckdb_sql_query/) documentation from Llamaindex for reference."
   ]
  },
  {
   "cell_type": "code",
   "execution_count": 2,
   "metadata": {},
   "outputs": [],
   "source": [
    "# Connecting to the sqlite db and testing the query output\n",
    "db_file = \"sqlite:///olist.sqlite\"\n",
    "engine = create_engine(db_file)"
   ]
  },
  {
   "cell_type": "code",
   "execution_count": 3,
   "metadata": {},
   "outputs": [
    {
     "data": {
      "text/plain": [
       "['product_category_name_translation',\n",
       " 'sellers',\n",
       " 'customers',\n",
       " 'geolocation',\n",
       " 'order_items',\n",
       " 'order_payments',\n",
       " 'order_reviews',\n",
       " 'orders',\n",
       " 'products',\n",
       " 'leads_qualified',\n",
       " 'leads_closed']"
      ]
     },
     "execution_count": 3,
     "metadata": {},
     "output_type": "execute_result"
    }
   ],
   "source": [
    "# Getting all the table names to populate the vector index\n",
    "all_table_names = []\n",
    "with engine.connect() as con:\n",
    "    rows = con.execute(text(\"SELECT name FROM sqlite_master WHERE type='table' AND name NOT LIKE 'sqlite_%';\"))\n",
    "    for row in rows:\n",
    "       all_table_names.append(row[0])\n",
    "all_table_names"
   ]
  },
  {
   "cell_type": "code",
   "execution_count": 6,
   "metadata": {},
   "outputs": [],
   "source": [
    "# Initializing the LLM. Make sure you have OPENAI_API_KEY in your .env file\n",
    "llm = OpenAI(model=\"gpt-4-turbo\",\n",
    "             temperature=0.1,\n",
    "             api_key=os.environ.get('OPENAI_API_KEY'))\n",
    "\n",
    "embedding = OpenAIEmbedding(model=\"text-embedding-3-small\")\n",
    "Settings.llm = llm\n",
    "Settings.embed_model = embedding\n",
    "# Settings.num_output = 500"
   ]
  },
  {
   "cell_type": "code",
   "execution_count": 7,
   "metadata": {},
   "outputs": [],
   "source": [
    "sql_database = SQLDatabase(engine, include_tables=all_table_names)"
   ]
  },
  {
   "cell_type": "code",
   "execution_count": 8,
   "metadata": {},
   "outputs": [
    {
     "name": "stdout",
     "output_type": "stream",
     "text": [
      "table_name='product_category_name_translation' context_str=None\n",
      "table_name='sellers' context_str=None\n",
      "table_name='customers' context_str=None\n",
      "table_name='geolocation' context_str=None\n",
      "table_name='order_items' context_str=None\n",
      "table_name='order_payments' context_str=None\n",
      "table_name='order_reviews' context_str=None\n",
      "table_name='orders' context_str=None\n",
      "table_name='products' context_str=None\n",
      "table_name='leads_qualified' context_str=None\n",
      "table_name='leads_closed' context_str=None\n"
     ]
    }
   ],
   "source": [
    "table_node_mapping = SQLTableNodeMapping(sql_database)\n",
    "\n",
    "table_schema_objs = []\n",
    "for table_name in all_table_names:\n",
    "    table_schema_objs.append(SQLTableSchema(table_name=table_name))\n",
    "    print(SQLTableSchema(table_name=table_name))\n",
    "\n",
    "obj_index = ObjectIndex.from_objects(\n",
    "    table_schema_objs,\n",
    "    table_node_mapping,\n",
    "    VectorStoreIndex,\n",
    ")"
   ]
  },
  {
   "cell_type": "code",
   "execution_count": 9,
   "metadata": {},
   "outputs": [
    {
     "name": "stderr",
     "output_type": "stream",
     "text": [
      "/var/folders/2n/s2mdnb396mb_p21bswvlnxb40000gn/T/ipykernel_10866/2420639041.py:1: UserWarning: Unable to persist ObjectNodeMapping. You will need to reconstruct the same object node mapping to build this ObjectIndex\n",
      "  obj_index.persist('./db')\n"
     ]
    }
   ],
   "source": [
    "obj_index.persist('./db')"
   ]
  },
  {
   "cell_type": "code",
   "execution_count": 10,
   "metadata": {},
   "outputs": [],
   "source": [
    "reloaded_object_index = ObjectIndex.from_persist_dir('./db', object_node_mapping=table_node_mapping)"
   ]
  },
  {
   "cell_type": "code",
   "execution_count": 11,
   "metadata": {},
   "outputs": [],
   "source": [
    "updated_query_engine = SQLTableRetrieverQueryEngine(\n",
    "    sql_database,\n",
    "    reloaded_object_index.as_retriever(similarity_top_k=1)\n",
    ")"
   ]
  },
  {
   "cell_type": "code",
   "execution_count": 15,
   "metadata": {},
   "outputs": [],
   "source": [
    "query_str = \"What is the best and worst reviewed product category based on order reviews?\"\n",
    "obj_based_response = updated_query_engine.query(query_str)"
   ]
  },
  {
   "cell_type": "code",
   "execution_count": 16,
   "metadata": {},
   "outputs": [
    {
     "name": "stdout",
     "output_type": "stream",
     "text": [
      "\n",
      "AI Response\n",
      "The best-reviewed product category based on order reviews is 'cds_dvds_musicais' with an average review score of 4.64. On the other hand, the worst-reviewed product category is 'seguros_e_servicos' with a significantly lower average review score of 2.5. These scores indicate a notable difference in customer satisfaction across different categories, highlighting areas where improvements could be beneficial.\n",
      "\n",
      "Query Output\n",
      "----------------------\n",
      "[('cds_dvds_musicais', 4.642857142857143), ('fashion_roupa_infanto_juvenil', 4.5), ('livros_interesse_geral', 4.446265938069216), ('construcao_ferramentas_ferramentas', 4.444444444444445), ('flores', 4.419354838709677), ('livros_importados', 4.4), ('livros_tecnicos', 4.368421052631579), ('alimentos_bebidas', 4.315412186379929), ('malas_acessorios', 4.315257352941177), ('portateis_casa_forno_e_cafe', 4.302631578947368), ('fashion_esporte', 4.258064516129032), ('fashion_calcados', 4.233716475095785), ('alimentos', 4.218181818181818), ('musica', 4.2105263157894735), ('cine_foto', 4.205479452054795), ('papelaria', 4.193857199840447), ('pet_shop', 4.185146982980918), ('pcs', 4.175), ('eletrodomesticos', 4.172456575682382), ('perfumaria', 4.161940952937737), ('brinquedos', 4.158640919090687), ('instrumentos_musicais', 4.152592592592592), ('eletroportateis', 4.149187592319055), ('cool_stuff', 4.146341463414634), ('fashion_bolsas_e_acessorios', 4.144678764100049), ('eletrodomesticos_2', 4.142857142857143), ('beleza_saude', 4.1427682737169516), ('artes_e_artesanato', 4.125), ('tablets_impressao_imagem', 4.1234567901234565), ('moveis_quarto', 4.118181818181818), ('esporte_lazer', 4.107986111111111), ('industria_comercio_e_negocios', 4.101503759398496), ('sinalizacao_e_seguranca', 4.086294416243655), ('dvds_blu_ray', 4.079365079365079), ('automotivo', 4.065511511986708), ('utilidades_domesticas', 4.055019444044361), ('construcao_ferramentas_jardim', 4.054166666666666), ('construcao_ferramentas_iluminacao', 4.054054054054054), ('construcao_ferramentas_construcao', 4.052915766738661), ('bebidas', 4.047745358090186), ('ferramentas_jardim', 4.042735042735043), ('eletronicos', 4.037468170243725), ('consoles_games', 4.0230700976042595), ('artigos_de_natal', 4.02054794520548), ('market_place', 4.019417475728155), ('relogios_presentes', 4.019159663865546), ('bebes', 4.011811023622047), ('agro_industria_e_comercio', 4.0), ('la_cuisine', 4.0), ('fashion_underwear_e_moda_praia', 3.976923076923077), ('climatizacao', 3.969178082191781), ('moveis_cozinha_area_de_servico_jantar_e_jardim', 3.9642857142857144), ('telefonia', 3.946867389860527), ('casa_construcao', 3.94), ('artes', 3.9371980676328504), ('informatica_acessorios', 3.9308192126385526), ('moveis_sala', 3.904382470119522), ('moveis_decoracao', 3.9034929780338494), ('cama_mesa_banho', 3.8956631049654304), ('construcao_ferramentas_seguranca', 3.844559585492228), (None, 3.8410513141426783), ('casa_conforto', 3.829885057471264), ('audio', 3.8254847645429364), ('moveis_colchao_e_estofado', 3.8157894736842106), ('fashion_roupa_feminina', 3.78), ('artigos_de_festas', 3.7674418604651163), ('telefonia_fixa', 3.683206106870229), ('fashion_roupa_masculina', 3.6412213740458017), ('casa_conforto_2', 3.6296296296296298), ('moveis_escritorio', 3.4931831653823355), ('pc_gamer', 3.3333333333333335), ('portateis_cozinha_e_preparadores_de_alimentos', 3.2666666666666666), ('fraldas_higiene', 3.2564102564102564), ('seguros_e_servicos', 2.5)]\n",
      "      \n",
      "Attempted Query\n",
      "----------------------\n",
      "SELECT product_category_name, AVG(review_score) AS average_score FROM order_reviews JOIN order_items ON order_reviews.order_id = order_items.order_id JOIN products ON order_items.product_id = products.product_id GROUP BY product_category_name ORDER BY average_score DESC, product_category_name;\n",
      "\n",
      "\n"
     ]
    }
   ],
   "source": [
    "print(f\"\"\"\n",
    "AI Response\n",
    "{obj_based_response.response}\n",
    "\n",
    "Query Output\n",
    "----------------------\n",
    "{obj_based_response.source_nodes[0].text}\n",
    "      \n",
    "Attempted Query\n",
    "----------------------\n",
    "{obj_based_response.metadata['sql_query']}\n",
    "\n",
    "\"\"\")"
   ]
  },
  {
   "cell_type": "code",
   "execution_count": 17,
   "metadata": {},
   "outputs": [
    {
     "name": "stdout",
     "output_type": "stream",
     "text": [
      "('cds_dvds_musicais', 4.642857142857143)\n",
      "('fashion_roupa_infanto_juvenil', 4.5)\n",
      "('livros_interesse_geral', 4.446265938069216)\n",
      "('construcao_ferramentas_ferramentas', 4.444444444444445)\n",
      "('flores', 4.419354838709677)\n",
      "('livros_importados', 4.4)\n",
      "('livros_tecnicos', 4.368421052631579)\n",
      "('alimentos_bebidas', 4.315412186379929)\n",
      "('malas_acessorios', 4.315257352941177)\n",
      "('portateis_casa_forno_e_cafe', 4.302631578947368)\n",
      "('fashion_esporte', 4.258064516129032)\n",
      "('fashion_calcados', 4.233716475095785)\n",
      "('alimentos', 4.218181818181818)\n",
      "('musica', 4.2105263157894735)\n",
      "('cine_foto', 4.205479452054795)\n",
      "('papelaria', 4.193857199840447)\n",
      "('pet_shop', 4.185146982980918)\n",
      "('pcs', 4.175)\n",
      "('eletrodomesticos', 4.172456575682382)\n",
      "('perfumaria', 4.161940952937737)\n",
      "('brinquedos', 4.158640919090687)\n",
      "('instrumentos_musicais', 4.152592592592592)\n",
      "('eletroportateis', 4.149187592319055)\n",
      "('cool_stuff', 4.146341463414634)\n",
      "('fashion_bolsas_e_acessorios', 4.144678764100049)\n",
      "('eletrodomesticos_2', 4.142857142857143)\n",
      "('beleza_saude', 4.1427682737169516)\n",
      "('artes_e_artesanato', 4.125)\n",
      "('tablets_impressao_imagem', 4.1234567901234565)\n",
      "('moveis_quarto', 4.118181818181818)\n",
      "('esporte_lazer', 4.107986111111111)\n",
      "('industria_comercio_e_negocios', 4.101503759398496)\n",
      "('sinalizacao_e_seguranca', 4.086294416243655)\n",
      "('dvds_blu_ray', 4.079365079365079)\n",
      "('automotivo', 4.065511511986708)\n",
      "('utilidades_domesticas', 4.055019444044361)\n",
      "('construcao_ferramentas_jardim', 4.054166666666666)\n",
      "('construcao_ferramentas_iluminacao', 4.054054054054054)\n",
      "('construcao_ferramentas_construcao', 4.052915766738661)\n",
      "('bebidas', 4.047745358090186)\n",
      "('ferramentas_jardim', 4.042735042735043)\n",
      "('eletronicos', 4.037468170243725)\n",
      "('consoles_games', 4.0230700976042595)\n",
      "('artigos_de_natal', 4.02054794520548)\n",
      "('market_place', 4.019417475728155)\n",
      "('relogios_presentes', 4.019159663865546)\n",
      "('bebes', 4.011811023622047)\n",
      "('agro_industria_e_comercio', 4.0)\n",
      "('la_cuisine', 4.0)\n",
      "('fashion_underwear_e_moda_praia', 3.976923076923077)\n",
      "('climatizacao', 3.969178082191781)\n",
      "('moveis_cozinha_area_de_servico_jantar_e_jardim', 3.9642857142857144)\n",
      "('telefonia', 3.946867389860527)\n",
      "('casa_construcao', 3.94)\n",
      "('artes', 3.9371980676328504)\n",
      "('informatica_acessorios', 3.9308192126385526)\n",
      "('moveis_sala', 3.904382470119522)\n",
      "('moveis_decoracao', 3.9034929780338494)\n",
      "('cama_mesa_banho', 3.8956631049654304)\n",
      "('construcao_ferramentas_seguranca', 3.844559585492228)\n",
      "(None, 3.8410513141426783)\n",
      "('casa_conforto', 3.829885057471264)\n",
      "('audio', 3.8254847645429364)\n",
      "('moveis_colchao_e_estofado', 3.8157894736842106)\n",
      "('fashion_roupa_feminina', 3.78)\n",
      "('artigos_de_festas', 3.7674418604651163)\n",
      "('telefonia_fixa', 3.683206106870229)\n",
      "('fashion_roupa_masculina', 3.6412213740458017)\n",
      "('casa_conforto_2', 3.6296296296296298)\n",
      "('moveis_escritorio', 3.4931831653823355)\n",
      "('pc_gamer', 3.3333333333333335)\n",
      "('portateis_cozinha_e_preparadores_de_alimentos', 3.2666666666666666)\n",
      "('fraldas_higiene', 3.2564102564102564)\n",
      "('seguros_e_servicos', 2.5)\n"
     ]
    }
   ],
   "source": [
    "from sqlalchemy.exc import OperationalError\n",
    "try:\n",
    "    with engine.connect() as con:\n",
    "        rows = con.execute(text(obj_based_response.metadata['sql_query']))\n",
    "        for row in rows:\n",
    "            print(row)\n",
    "except OperationalError as e:\n",
    "    print(f\"Error: {e.args[0]}\")\n"
   ]
  }
 ],
 "metadata": {
  "kernelspec": {
   "display_name": "venv",
   "language": "python",
   "name": "python3"
  },
  "language_info": {
   "codemirror_mode": {
    "name": "ipython",
    "version": 3
   },
   "file_extension": ".py",
   "mimetype": "text/x-python",
   "name": "python",
   "nbconvert_exporter": "python",
   "pygments_lexer": "ipython3",
   "version": "3.12.3"
  }
 },
 "nbformat": 4,
 "nbformat_minor": 2
}
