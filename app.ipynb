{
 "cells": [
  {
   "cell_type": "code",
   "execution_count": null,
   "metadata": {},
   "outputs": [],
   "source": [
    "! pip install --upgrade --quiet python-dotenv llama-index-llms-openai llama-index llama-index-embeddings-openai"
   ]
  },
  {
   "cell_type": "code",
   "execution_count": 1,
   "metadata": {},
   "outputs": [
    {
     "data": {
      "text/plain": [
       "True"
      ]
     },
     "execution_count": 1,
     "metadata": {},
     "output_type": "execute_result"
    }
   ],
   "source": [
    "from llama_index.core.indices.struct_store import SQLTableRetrieverQueryEngine\n",
    "from llama_index.core import VectorStoreIndex, SQLDatabase, Settings\n",
    "from llama_index.llms.openai import OpenAI\n",
    "from llama_index.embeddings.openai import OpenAIEmbedding\n",
    "from llama_index.core.query_engine import NLSQLTableQueryEngine\n",
    "\n",
    "from llama_index.core.objects import (\n",
    "    SQLTableNodeMapping,\n",
    "    ObjectIndex,\n",
    "    SQLTableSchema,\n",
    ")\n",
    "\n",
    "from sqlalchemy import (\n",
    "    create_engine,\n",
    "    text\n",
    ")\n",
    "\n",
    "from dotenv import load_dotenv\n",
    "load_dotenv()"
   ]
  },
  {
   "cell_type": "markdown",
   "metadata": {},
   "source": [
    "### In this document\n",
    "The first few cells go over the general SQL query engine provided by llamaindex. It will demonstrate how to get started via SQL Alchemy and the limitations of NLSQLTableQueryEngine.\n",
    "You will see that because of context window limitations, you will either hit context window limits or the resulting query will not work because of model confusion due to the large amount of tables and/or columns.\n",
    "\n",
    "### The dataset used\n",
    "I chose [this database](https://www.kaggle.com/datasets/wyattowalsh/basketball) from Kaggle because it contained 16 tables with 682 columns. The dataset was Last Updated on Thurs, July 26th, 2023. Download the database and bring the .sqlite file into the directory.\n",
    "\n",
    "### Reference Documentation\n",
    "Im going through [this](https://docs.llamaindex.ai/en/stable/examples/index_structs/struct_indices/duckdb_sql_query/) documentation from Llamaindex for reference."
   ]
  },
  {
   "cell_type": "code",
   "execution_count": 2,
   "metadata": {},
   "outputs": [
    {
     "name": "stdout",
     "output_type": "stream",
     "text": [
      "('76001', 'Alaa', 'Abdelnaby', 'Alaa Abdelnaby', 'Abdelnaby, Alaa', 'A. Abdelnaby', 'alaa-abdelnaby', '1968-06-24 00:00:00', 'Duke', 'USA', 'Duke/USA', '6-10', '240', 5.0, '30', 'Forward', 'Inactive', 'N', 1610612757, 'Trail Blazers', 'POR', 'blazers', 'Portland', 'HISTADD_alaa_abdelnaby', 1990.0, 1994.0, 'N', 'Y', 'Y', '1990', '1', '25', 'N')\n",
      "('76002', 'Zaid', 'Abdul-Aziz', 'Zaid Abdul-Aziz', 'Abdul-Aziz, Zaid', 'Z. Abdul-Aziz', 'zaid-abdul-aziz', '1946-04-07 00:00:00', 'Iowa State', 'USA', 'Iowa State/USA', '6-9', '235', 10.0, '54', 'Center', 'Inactive', 'N', 1610612745, 'Rockets', 'HOU', 'rockets', 'Houston', 'HISTADD_zaid_abdul-aziz', 1968.0, 1977.0, 'N', 'Y', 'Y', '1968', '1', '5', 'N')\n",
      "('76003', 'Kareem', 'Abdul-Jabbar', 'Kareem Abdul-Jabbar', 'Abdul-Jabbar, Kareem', 'K. Abdul-Jabbar', 'kareem-abdul-jabbar', '1947-04-16 00:00:00', 'UCLA', 'USA', 'UCLA/USA', '7-2', '225', 20.0, '33', 'Center', 'Inactive', 'N', 1610612747, 'Lakers', 'LAL', 'lakers', 'Los Angeles', 'HISTADD_kareem_abdul-jabbar', 1969.0, 1988.0, 'N', 'Y', 'Y', '1969', '1', '1', 'Y')\n",
      "('949', 'Shareef', 'Abdur-Rahim', 'Shareef Abdur-Rahim', 'Abdur-Rahim, Shareef', 'S. Abdur-Rahim', 'shareef-abdur-rahim', '1976-12-11 00:00:00', 'California', 'USA', 'California/USA', '6-9', '245', 13.0, '3', 'Forward', 'Inactive', 'N', 1610612763, 'Grizzlies', 'VAN', 'grizzlies', 'Vancouver', 'shareef_abdur-rahim', 1996.0, 2007.0, 'N', 'Y', 'Y', '1996', '1', '3', 'N')\n",
      "('76006', 'Forest', 'Able', 'Forest Able', 'Able, Forest', 'F. Able', 'forest-able', '1932-07-27 00:00:00', 'Western Kentucky', 'USA', 'Western Kentucky/USA', '6-3', '180', 1.0, '6', 'Guard', 'Inactive', 'N', 1610612755, 'Nationals', 'PHI', 'sixers', 'Syracuse', 'HISTADD_frosty_able', 1956.0, 1956.0, 'N', 'Y', 'Y', '1956', None, None, 'N')\n"
     ]
    }
   ],
   "source": [
    "# Connecting to the sqlite db and testing the query output\n",
    "engine = create_engine(\"sqlite:///nba.sqlite\")\n",
    "with engine.connect() as con:\n",
    "    rows = con.execute(text(\"SELECT * from common_player_info limit 5\"))\n",
    "    for row in rows:\n",
    "        print(row)"
   ]
  },
  {
   "cell_type": "code",
   "execution_count": 3,
   "metadata": {},
   "outputs": [
    {
     "data": {
      "text/plain": [
       "['game',\n",
       " 'game_summary',\n",
       " 'other_stats',\n",
       " 'officials',\n",
       " 'inactive_players',\n",
       " 'game_info',\n",
       " 'line_score',\n",
       " 'play_by_play',\n",
       " 'player',\n",
       " 'team',\n",
       " 'common_player_info',\n",
       " 'team_details',\n",
       " 'team_history',\n",
       " 'draft_combine_stats',\n",
       " 'draft_history',\n",
       " 'team_info_common']"
      ]
     },
     "execution_count": 3,
     "metadata": {},
     "output_type": "execute_result"
    }
   ],
   "source": [
    "# Getting all the table names to populate the vector index\n",
    "all_table_names = []\n",
    "with engine.connect() as con:\n",
    "    rows = con.execute(text(\"SELECT name FROM sqlite_master WHERE type='table' AND name NOT LIKE 'sqlite_%';\"))\n",
    "    for row in rows:\n",
    "       all_table_names.append(row[0])\n",
    "all_table_names"
   ]
  },
  {
   "cell_type": "code",
   "execution_count": 4,
   "metadata": {},
   "outputs": [],
   "source": [
    "# Initializing the LLM. Make sure you have OPENAI_API_KEY in your .env file\n",
    "llm = OpenAI(model_name=\"gpt-4-turbo\",\n",
    "             temperature=0,\n",
    "             streaming=True)\n",
    "\n",
    "embedding = OpenAIEmbedding()\n",
    "Settings.llm = llm\n",
    "Settings.embed_model = OpenAIEmbedding(model=\"text-embedding-3-small\")\n",
    "Settings.num_output = 500"
   ]
  },
  {
   "cell_type": "code",
   "execution_count": 5,
   "metadata": {},
   "outputs": [],
   "source": [
    "# Setting up SQL Database using the SQL Alchemy engine above.\n",
    "sql_database = SQLDatabase(engine)\n",
    "query_engine = NLSQLTableQueryEngine(\n",
    "    sql_database=sql_database, llm=llm \n",
    ")"
   ]
  },
  {
   "cell_type": "code",
   "execution_count": 30,
   "metadata": {},
   "outputs": [],
   "source": [
    "# This is the query that we will use \n",
    "query_str = \"List the names of players who have played for more than three teams.\"\n",
    "simple_sql_response = query_engine.query(query_str)"
   ]
  },
  {
   "cell_type": "code",
   "execution_count": 31,
   "metadata": {},
   "outputs": [
    {
     "name": "stdout",
     "output_type": "stream",
     "text": [
      "\n",
      "AI Response\n",
      "The list of players who have played for more than three teams includes Quincy Acy, Arron Afflalo, Alexis Ajinca, Malik Allen, Tony Allen, Lou Amundson, Chris Andersen, Derek Anderson, Justin Anderson, Ryan Anderson, Joel Anthony, Carmelo Anthony, Trevor Ariza, Hilton Armstrong, D.J. Augustin, Luke Babbitt, Marcus Banks, Leandro Barbosa, Matt Barnes, Will Barton, Brandon Bass, Tony Battie, Jerryd Bayless, Aron Baynes, Kent Bazemore, Michael Beasley, Marco Belinelli, Raja Bell, DeAndre' Bembry, Anthony Bennett, Patrick Beverley, Chauncey Billups, Steve Blake, Eric Bledsoe, Keith Bogans, Bojan Bogdanovic, Andrew Bogut, Bol Bol, Trevor Booker, Calvin Booth, Avery Bradley, Elton Brand, Corey Brewer, Primoz Brezec, Aaron Brooks, MarShon Brooks, Moses Brown, Shannon Brown, Kwame Brown, Reggie Bullock, Trey Burke, Alec Burks, Jimmy Butler, Caron Butler, Andrew Bynum, Bruno Caboclo, Jose Calderon, Kentavious Caldwell-Pope, Marcus Camby, Isaiah Canaan, Rodney Carney, DeMarre Carroll, Vince Carter, Michael Carter-Williams, Sam Cassell, Kelvin Cato, Willie Cauley-Stein, Wilson Chandler, Tyson Chandler, Chris Chiozza, Marquese Chriss, Ian Clark, Brian Cook, DeMarcus Cousins, Robert Covington, Allen Crabbe, Torrey Craig, Jamal Crawford, Austin Croshere, Jae Crowder, Seth Curry, Eddy Curry, Erick Dampier, Troy Daniels, Marquis Daniels, Baron Davis, Ed Davis, Austin Daye, Dewayne Dedmon, Luol Deng, Boris Diaw, Gorgui Dieng, Spencer Dinwiddie, Ike Diogu, Juan Dixon, Toney Douglas, Chris Douglas-Roberts, Goran Dragic, Andre Drummond, Jared Dudley, Mike Dunleavy, Kris Dunn, Kevin Durant, Jarell Eddie, Wayne Ellington, Monta Ellis, Francisco Elson, Melvin Ely, Tyler Ennis, James Ennis III, Tyreke Evans, Maurice Evans, Reggie Evans, Derrick Favors, Raymond Felton, Bryn Forbes, T.J. Ford, Randy Foye, Steve Francis, Tim Frazier, Enes Freedom, Channing Frye, Wenyen Gabriel, Danilo Gallinari, Kevin Garnett, Pau Gasol, Rudy Gay, Alonzo Gee, Taj Gibson, Ryan Gomes, Drew Gooden, Stephen Graham, Treveon Graham, Danny Granger, Jerami Grant, Gerald Green, Jeff Green, Danny Green, JaMychal Green, Willie Green, Adrian Griffin, Blake Griffin, James Harden, Maurice Harkless, Al Harrington, Tobias Harris, Devin Harris, Josh Hart, Jason Hart, Spencer Hawes, Brendan Haywood, Luther Head, John Henson, Juancho Hernangomez, Roy Hibbert, JJ Hickson, George Hill, Solomon Hill, Aaron Holiday, Justin Holiday, Ryan Hollins, Rodney Hood, Al Horford, Danuel House Jr., Dwight Howard, Lester Hudson, Larry Hughes, Kris Humphries, Steven Hunter, Serge Ibaka, Andre Iguodala, Ersan Ilyasova, Kyrie Irving, Royal Ivey, Jarrett Jack, Stephen Jackson, Josh Jackson, Justin Jackson, Reggie Jackson, Richard Jefferson, Al Jefferson, DaQuan Jeffries, Brandon Jennings, Amir Johnson, Anthony Johnson, Alize Johnson, James Johnson, Tyler Johnson, Joe Johnson, Linton Johnson, Dwayne Jones, Damian Jones, Fred Jones, Derrick Jones Jr., DeAndre Jordan, Frank Kaminsky, Brandon Knight, Kyle Korver, Kosta Koufos, Jeremy Lamb, Carl Landry, Acie Law, Caris LeVert, David Lee, Courtney Lee, Alex Len, Meyers Leonard, DeAndre Liggins, Jeremy Lin, Shaun Livingston, Robin Lopez, Kevin Love, Kyle Lowry, John Lucas III, Tyronn Lue, Timothe Luwawu-Cabarrot, Trey Lyles, Corey Maggette, Jamaal Magloire, Ian Mahinmi, Boban Marjanovic, Sean Marks, Kenyon Martin, Kevin Martin, Roger Mason Jr., Wesley Matthews, Luc Mbah a Moute, Doug McDermott, JaVale McGee, Tracy McGrady, Alfonzo McKinnie, Ben McLemore, Josh McRoberts, Jodie Meeks, Pops Mensah-Bonsu, CJ Miles, Darko Milicic, Mike Miller, Paul Millsap, Nazr Mohammed, Greg Monroe, Jamario Moon, E'Twaun Moore, Eric Moreland, Markieff Morris, Marcus Morris Sr., Anthony Morrow, Timofey Mozgov, Emmanuel Mudiay, Byron Mullens, Troy Murphy, Flip Murray, Mike Muscala, Svi Mykhailiuk, Eduardo Najera, Larry Nance Jr., Shabazz Napier, Gary Neal, Jameer Nelson, Joakim Noah, Nerlens Noel, Steve Novak, David Nwaba, Shaquille O'Neal, Jermaine O'Neal, Lamar Odom, Jahlil Okafor, Emeka Okafor, Victor Oladipo, Kelly Olynyk, Kelly Oubre Jr., Zaza Pachulia, Jabari Parker, Chris Paul, Elfrid Payton, Gary Payton II, Kendrick Perkins, Morris Peterson, Paul Pierce, Mickael Pietrus, Miles Plumlee, Mason Plumlee, Scot Pollard, Otto Porter Jr., Kristaps Porzingis, James Posey, Vitaly Potapenko, Josh Powell, Taurean Prince, Vladimir Radmanovic, Shavlik Randolph, Zach Randolph, Theo Ratliff, JJ Redick, Willie Reed, Josh Richardson, Jason Richardson, Luke Ridnour, Austin Rivers, Glenn Robinson III, Isaiah Roby, Rajon Rondo, Derrick Rose, Quinton Ross, Ricky Rubio, Michael Ruffin, Brandon Rush, Kareem Rush, D'Angelo Russell, John Salmons, Jamal Sampson, Dario Saric, Tomas Satoransky, Dennis Schroder, Thabo Sefolosha, Ramon Sessions, Iman Shumpert, Cedric Simmons, Jason Smith, Ish Smith, JR Smith, Joe Smith, Dennis Smith Jr., Tony Snell, Omari Spellman, Jerry Stackhouse, Nik Stauskas, Lance Stephenson, Peja Stojakovic, Amar'e Stoudemire, Stromile Swift, Jeff Teague, Sebastian Telfair, Garrett Temple, Jason Terry, Daniel Theis, Isaiah Thomas, Malcolm Thomas, Kurt Thomas, Tristan Thompson, Marcus Thornton, Anthony Tolliver, P.J. Tucker, Ronny Turiaf, Evan Turner, Ekpe Udoh, Beno Udrih, Greivis Vasquez, Noah Vonleh, Dwyane Wade, Von Wafer, Dion Waiters, Kemba Walker, John Wall, Gerald Wallace, C.J. Watson, Earl Watson, David Wesley, David West, Delonte West, Russell Westbrook, Hassan Whiteside, C.J. Wilcox, Chris Wilcox, Marvin Williams, Lou Williams, Troy Williams, Shelden Williams, Shawne Williams, Reggie Williams, Mo Williams, Justise Winslow, Christian Wood, Metta World Peace, Antoine Wright, Delon Wright, Brandan Wright, Jianlian Yi, Thaddeus Young, Tyler Zeller.\n",
      "\n",
      "Query Output\n",
      "----------------------\n",
      "[('Quincy', 'Acy'), ('Arron', 'Afflalo'), ('Alexis', 'Ajinca'), ('Malik', 'Allen'), ('Tony', 'Allen'), ('Lou', 'Amundson'), ('Chris', 'Andersen'), ('Derek', 'Anderson'), ('Justin', 'Anderson'), ('Ryan', 'Anderson'), ('Joel', 'Anthony'), ('Carmelo', 'Anthony'), ('Trevor', 'Ariza'), ('Hilton', 'Armstrong'), ('D.J.', 'Augustin'), ('Luke', 'Babbitt'), ('Marcus', 'Banks'), ('Leandro', 'Barbosa'), ('Matt', 'Barnes'), ('Will', 'Barton'), ('Brandon', 'Bass'), ('Tony', 'Battie'), ('Jerryd', 'Bayless'), ('Aron', 'Baynes'), ('Kent', 'Bazemore'), ('Michael', 'Beasley'), ('Marco', 'Belinelli'), ('Raja', 'Bell'), (\"DeAndre'\", 'Bembry'), ('Anthony', 'Bennett'), ('Patrick', 'Beverley'), ('Chauncey', 'Billups'), ('Steve', 'Blake'), ('Eric', 'Bledsoe'), ('Keith', 'Bogans'), ('Bojan', 'Bogdanovic'), ('Andrew', 'Bogut'), ('Bol', 'Bol'), ('Trevor', 'Booker'), ('Calvin', 'Booth'), ('Avery', 'Bradley'), ('Elton', 'Brand'), ('Corey', 'Brewer'), ('Primoz', 'Brezec'), ('Aaron', 'Brooks'), ('MarShon', 'Brooks'), ('Moses', 'Brown'), ('Shannon', 'Brown'), ('Kwame', 'Brown'), ('Reggie', 'Bullock'), ('Trey', 'Burke'), ('Alec', 'Burks'), ('Jimmy', 'Butler'), ('Caron', 'Butler'), ('Andrew', 'Bynum'), ('Bruno', 'Caboclo'), ('Jose', 'Calderon'), ('Kentavious', 'Caldwell-Pope'), ('Marcus', 'Camby'), ('Isaiah', 'Canaan'), ('Rodney', 'Carney'), ('DeMarre', 'Carroll'), ('Vince', 'Carter'), ('Michael', 'Carter-Williams'), ('Sam', 'Cassell'), ('Kelvin', 'Cato'), ('Willie', 'Cauley-Stein'), ('Wilson', 'Chandler'), ('Tyson', 'Chandler'), ('Chris', 'Chiozza'), ('Marquese', 'Chriss'), ('Ian', 'Clark'), ('Brian', 'Cook'), ('DeMarcus', 'Cousins'), ('Robert', 'Covington'), ('Allen', 'Crabbe'), ('Torrey', 'Craig'), ('Jamal', 'Crawford'), ('Austin', 'Croshere'), ('Jae', 'Crowder'), ('Seth', 'Curry'), ('Eddy', 'Curry'), ('Erick', 'Dampier'), ('Troy', 'Daniels'), ('Marquis', 'Daniels'), ('Baron', 'Davis'), ('Ed', 'Davis'), ('Austin', 'Daye'), ('Dewayne', 'Dedmon'), ('Luol', 'Deng'), ('Boris', 'Diaw'), ('Gorgui', 'Dieng'), ('Spencer', 'Dinwiddie'), ('Ike', 'Diogu'), ('Juan', 'Dixon'), ('Toney', 'Douglas'), ('Chris', 'Douglas-Roberts'), ('Goran', 'Dragic'), ('Andre', 'Drummond'), ('Jared', 'Dudley'), ('Mike', 'Dunleavy'), ('Kris', 'Dunn'), ('Kevin', 'Durant'), ('Jarell', 'Eddie'), ('Wayne', 'Ellington'), ('Monta', 'Ellis'), ('Francisco', 'Elson'), ('Melvin', 'Ely'), ('Tyler', 'Ennis'), ('James', 'Ennis III'), ('Tyreke', 'Evans'), ('Maurice', 'Evans'), ('Reggie', 'Evans'), ('Derrick', 'Favors'), ('Raymond', 'Felton'), ('Bryn', 'Forbes'), ('T.J.', 'Ford'), ('Randy', 'Foye'), ('Steve', 'Francis'), ('Tim', 'Frazier'), ('Enes', 'Freedom'), ('Channing', 'Frye'), ('Wenyen', 'Gabriel'), ('Danilo', 'Gallinari'), ('Kevin', 'Garnett'), ('Pau', 'Gasol'), ('Rudy', 'Gay'), ('Alonzo', 'Gee'), ('Taj', 'Gibson'), ('Ryan', 'Gomes'), ('Drew', 'Gooden'), ('Stephen', 'Graham'), ('Treveon', 'Graham'), ('Danny', 'Granger'), ('Jerami', 'Grant'), ('Gerald', 'Green'), ('Jeff', 'Green'), ('Danny', 'Green'), ('JaMychal', 'Green'), ('Willie', 'Green'), ('Adrian', 'Griffin'), ('Blake', 'Griffin'), ('James', 'Harden'), ('Maurice', 'Harkless'), ('Al', 'Harrington'), ('Tobias', 'Harris'), ('Devin', 'Harris'), ('Josh', 'Hart'), ('Jason', 'Hart'), ('Spencer', 'Hawes'), ('Brendan', 'Haywood'), ('Luther', 'Head'), ('John', 'Henson'), ('Juancho', 'Hernangomez'), ('Roy', 'Hibbert'), ('JJ', 'Hickson'), ('George', 'Hill'), ('Solomon', 'Hill'), ('Aaron', 'Holiday'), ('Justin', 'Holiday'), ('Ryan', 'Hollins'), ('Rodney', 'Hood'), ('Al', 'Horford'), ('Danuel', 'House Jr.'), ('Dwight', 'Howard'), ('Lester', 'Hudson'), ('Larry', 'Hughes'), ('Kris', 'Humphries'), ('Steven', 'Hunter'), ('Serge', 'Ibaka'), ('Andre', 'Iguodala'), ('Ersan', 'Ilyasova'), ('Kyrie', 'Irving'), ('Royal', 'Ivey'), ('Jarrett', 'Jack'), ('Stephen', 'Jackson'), ('Josh', 'Jackson'), ('Justin', 'Jackson'), ('Reggie', 'Jackson'), ('Richard', 'Jefferson'), ('Al', 'Jefferson'), ('DaQuan', 'Jeffries'), ('Brandon', 'Jennings'), ('Amir', 'Johnson'), ('Anthony', 'Johnson'), ('Alize', 'Johnson'), ('James', 'Johnson'), ('Tyler', 'Johnson'), ('Joe', 'Johnson'), ('Linton', 'Johnson'), ('Dwayne', 'Jones'), ('Damian', 'Jones'), ('Fred', 'Jones'), ('Derrick', 'Jones Jr.'), ('DeAndre', 'Jordan'), ('Frank', 'Kaminsky'), ('Brandon', 'Knight'), ('Kyle', 'Korver'), ('Kosta', 'Koufos'), ('Jeremy', 'Lamb'), ('Carl', 'Landry'), ('Acie', 'Law'), ('Caris', 'LeVert'), ('David', 'Lee'), ('Courtney', 'Lee'), ('Alex', 'Len'), ('Meyers', 'Leonard'), ('DeAndre', 'Liggins'), ('Jeremy', 'Lin'), ('Shaun', 'Livingston'), ('Robin', 'Lopez'), ('Kevin', 'Love'), ('Kyle', 'Lowry'), ('John', 'Lucas III'), ('Tyronn', 'Lue'), ('Timothe', 'Luwawu-Cabarrot'), ('Trey', 'Lyles'), ('Corey', 'Maggette'), ('Jamaal', 'Magloire'), ('Ian', 'Mahinmi'), ('Boban', 'Marjanovic'), ('Sean', 'Marks'), ('Kenyon', 'Martin'), ('Kevin', 'Martin'), ('Roger', 'Mason Jr.'), ('Wesley', 'Matthews'), ('Luc', 'Mbah a Moute'), ('Doug', 'McDermott'), ('JaVale', 'McGee'), ('Tracy', 'McGrady'), ('Alfonzo', 'McKinnie'), ('Ben', 'McLemore'), ('Josh', 'McRoberts'), ('Jodie', 'Meeks'), ('Pops', 'Mensah-Bonsu'), ('CJ', 'Miles'), ('Darko', 'Milicic'), ('Mike', 'Miller'), ('Paul', 'Millsap'), ('Nazr', 'Mohammed'), ('Greg', 'Monroe'), ('Jamario', 'Moon'), (\"E'Twaun\", 'Moore'), ('Eric', 'Moreland'), ('Markieff', 'Morris'), ('Marcus', 'Morris Sr.'), ('Anthony', 'Morrow'), ('Timofey', 'Mozgov'), ('Emmanuel', 'Mudiay'), ('Byron', 'Mullens'), ('Troy', 'Murphy'), ('Flip', 'Murray'), ('Mike', 'Muscala'), ('Svi', 'Mykhailiuk'), ('Eduardo', 'Najera'), ('Larry', 'Nance Jr.'), ('Shabazz', 'Napier'), ('Gary', 'Neal'), ('Jameer', 'Nelson'), ('Joakim', 'Noah'), ('Nerlens', 'Noel'), ('Steve', 'Novak'), ('David', 'Nwaba'), ('Shaquille', \"O'Neal\"), ('Jermaine', \"O'Neal\"), ('Lamar', 'Odom'), ('Jahlil', 'Okafor'), ('Emeka', 'Okafor'), ('Victor', 'Oladipo'), ('Kelly', 'Olynyk'), ('Kelly', 'Oubre Jr.'), ('Zaza', 'Pachulia'), ('Jabari', 'Parker'), ('Chris', 'Paul'), ('Elfrid', 'Payton'), ('Gary', 'Payton II'), ('Kendrick', 'Perkins'), ('Morris', 'Peterson'), ('Paul', 'Pierce'), ('Mickael', 'Pietrus'), ('Miles', 'Plumlee'), ('Mason', 'Plumlee'), ('Scot', 'Pollard'), ('Otto', 'Porter Jr.'), ('Kristaps', 'Porzingis'), ('James', 'Posey'), ('Vitaly', 'Potapenko'), ('Josh', 'Powell'), ('Taurean', 'Prince'), ('Vladimir', 'Radmanovic'), ('Shavlik', 'Randolph'), ('Zach', 'Randolph'), ('Theo', 'Ratliff'), ('JJ', 'Redick'), ('Willie', 'Reed'), ('Josh', 'Richardson'), ('Jason', 'Richardson'), ('Luke', 'Ridnour'), ('Austin', 'Rivers'), ('Glenn', 'Robinson III'), ('Isaiah', 'Roby'), ('Rajon', 'Rondo'), ('Derrick', 'Rose'), ('Quinton', 'Ross'), ('Ricky', 'Rubio'), ('Michael', 'Ruffin'), ('Brandon', 'Rush'), ('Kareem', 'Rush'), (\"D'Angelo\", 'Russell'), ('John', 'Salmons'), ('Jamal', 'Sampson'), ('Dario', 'Saric'), ('Tomas', 'Satoransky'), ('Dennis', 'Schroder'), ('Thabo', 'Sefolosha'), ('Ramon', 'Sessions'), ('Iman', 'Shumpert'), ('Cedric', 'Simmons'), ('Jason', 'Smith'), ('Ish', 'Smith'), ('JR', 'Smith'), ('Joe', 'Smith'), ('Dennis', 'Smith Jr.'), ('Tony', 'Snell'), ('Omari', 'Spellman'), ('Jerry', 'Stackhouse'), ('Nik', 'Stauskas'), ('Lance', 'Stephenson'), ('Peja', 'Stojakovic'), (\"Amar'e\", 'Stoudemire'), ('Stromile', 'Swift'), ('Jeff', 'Teague'), ('Sebastian', 'Telfair'), ('Garrett', 'Temple'), ('Jason', 'Terry'), ('Daniel', 'Theis'), ('Isaiah', 'Thomas'), ('Malcolm', 'Thomas'), ('Kurt', 'Thomas'), ('Tristan', 'Thompson'), ('Marcus', 'Thornton'), ('Anthony', 'Tolliver'), ('P.J.', 'Tucker'), ('Ronny', 'Turiaf'), ('Evan', 'Turner'), ('Ekpe', 'Udoh'), ('Beno', 'Udrih'), ('Greivis', 'Vasquez'), ('Noah', 'Vonleh'), ('Dwyane', 'Wade'), ('Von', 'Wafer'), ('Dion', 'Waiters'), ('Kemba', 'Walker'), ('John', 'Wall'), ('Gerald', 'Wallace'), ('C.J.', 'Watson'), ('Earl', 'Watson'), ('David', 'Wesley'), ('David', 'West'), ('Delonte', 'West'), ('Russell', 'Westbrook'), ('Hassan', 'Whiteside'), ('C.J.', 'Wilcox'), ('Chris', 'Wilcox'), ('Marvin', 'Williams'), ('Lou', 'Williams'), ('Troy', 'Williams'), ('Shelden', 'Williams'), ('Shawne', 'Williams'), ('Reggie', 'Williams'), ('Mo', 'Williams'), ('Justise', 'Winslow'), ('Christian', 'Wood'), ('Metta', 'World Peace'), ('Antoine', 'Wright'), ('Delon', 'Wright'), ('Brandan', 'Wright'), ('Jianlian', 'Yi'), ('Thaddeus', 'Young'), ('Tyler', 'Zeller')]\n",
      "      \n",
      "Attempted Query\n",
      "----------------------\n",
      "SELECT first_name, last_name\n",
      "FROM inactive_players\n",
      "GROUP BY player_id\n",
      "HAVING COUNT(DISTINCT team_id) > 3\n",
      "ORDER BY last_name;\n",
      "\n",
      "\n"
     ]
    }
   ],
   "source": [
    "print(f\"\"\"\n",
    "AI Response\n",
    "{simple_sql_response.response}\n",
    "\n",
    "Query Output\n",
    "----------------------\n",
    "{simple_sql_response.source_nodes[0].text}\n",
    "      \n",
    "Attempted Query\n",
    "----------------------\n",
    "{simple_sql_response.metadata['sql_query']}\n",
    "\n",
    "\"\"\")"
   ]
  },
  {
   "cell_type": "code",
   "execution_count": 32,
   "metadata": {},
   "outputs": [],
   "source": [
    "table_node_mapping = SQLTableNodeMapping(sql_database)\n",
    "\n",
    "table_schema_objs = []\n",
    "for table_name in all_table_names:\n",
    "    table_schema_objs.append(SQLTableSchema(table_name=table_name))\n",
    "\n",
    "obj_index = ObjectIndex.from_objects(\n",
    "    table_schema_objs,\n",
    "    table_node_mapping,\n",
    "    VectorStoreIndex\n",
    ")"
   ]
  },
  {
   "cell_type": "code",
   "execution_count": 33,
   "metadata": {},
   "outputs": [
    {
     "name": "stderr",
     "output_type": "stream",
     "text": [
      "/var/folders/2n/s2mdnb396mb_p21bswvlnxb40000gn/T/ipykernel_7436/3545701165.py:1: UserWarning: Unable to persist ObjectNodeMapping. You will need to reconstruct the same object node mapping to build this ObjectIndex\n",
      "  obj_index.persist()\n"
     ]
    }
   ],
   "source": [
    "obj_index.persist()"
   ]
  },
  {
   "cell_type": "code",
   "execution_count": 34,
   "metadata": {},
   "outputs": [],
   "source": [
    "reloaded_object_index = ObjectIndex.from_persist_dir(\n",
    "    object_node_mapping=table_node_mapping  # without this, an error will be thrown\n",
    ")"
   ]
  },
  {
   "cell_type": "code",
   "execution_count": 35,
   "metadata": {},
   "outputs": [],
   "source": [
    "query_engine = SQLTableRetrieverQueryEngine(\n",
    "    sql_database,\n",
    "    reloaded_object_index.as_retriever(similarity_top_k=1),\n",
    ")"
   ]
  },
  {
   "cell_type": "code",
   "execution_count": 36,
   "metadata": {},
   "outputs": [],
   "source": [
    "response = query_engine.query(query_str)"
   ]
  },
  {
   "cell_type": "code",
   "execution_count": 37,
   "metadata": {},
   "outputs": [
    {
     "name": "stdout",
     "output_type": "stream",
     "text": [
      "\n",
      "AI Response\n",
      "Some of the players who have played for more than three teams include Quincy Acy, Arron Afflalo, Alexis Ajinca, Tony Allen, Carmelo Anthony, Trevor Ariza, Lou Amundson, Chris Andersen, and many others.\n",
      "\n",
      "Query Output\n",
      "----------------------\n",
      "[('Quincy', 'Acy'), ('Arron', 'Afflalo'), ('Alexis', 'Ajinca'), ('Malik', 'Allen'), ('Tony', 'Allen'), ('Lou', 'Amundson'), ('Chris', 'Andersen'), ('Derek', 'Anderson'), ('Justin', 'Anderson'), ('Ryan', 'Anderson'), ('Joel', 'Anthony'), ('Carmelo', 'Anthony'), ('Trevor', 'Ariza'), ('Hilton', 'Armstrong'), ('D.J.', 'Augustin'), ('Luke', 'Babbitt'), ('Marcus', 'Banks'), ('Leandro', 'Barbosa'), ('Matt', 'Barnes'), ('Will', 'Barton'), ('Brandon', 'Bass'), ('Tony', 'Battie'), ('Jerryd', 'Bayless'), ('Aron', 'Baynes'), ('Kent', 'Bazemore'), ('Michael', 'Beasley'), ('Marco', 'Belinelli'), ('Raja', 'Bell'), (\"DeAndre'\", 'Bembry'), ('Anthony', 'Bennett'), ('Patrick', 'Beverley'), ('Chauncey', 'Billups'), ('Steve', 'Blake'), ('Eric', 'Bledsoe'), ('Keith', 'Bogans'), ('Bojan', 'Bogdanovic'), ('Andrew', 'Bogut'), ('Bol', 'Bol'), ('Trevor', 'Booker'), ('Calvin', 'Booth'), ('Avery', 'Bradley'), ('Elton', 'Brand'), ('Corey', 'Brewer'), ('Primoz', 'Brezec'), ('Aaron', 'Brooks'), ('MarShon', 'Brooks'), ('Moses', 'Brown'), ('Shannon', 'Brown'), ('Kwame', 'Brown'), ('Reggie', 'Bullock'), ('Trey', 'Burke'), ('Alec', 'Burks'), ('Jimmy', 'Butler'), ('Caron', 'Butler'), ('Andrew', 'Bynum'), ('Bruno', 'Caboclo'), ('Jose', 'Calderon'), ('Kentavious', 'Caldwell-Pope'), ('Marcus', 'Camby'), ('Isaiah', 'Canaan'), ('Rodney', 'Carney'), ('DeMarre', 'Carroll'), ('Vince', 'Carter'), ('Michael', 'Carter-Williams'), ('Sam', 'Cassell'), ('Kelvin', 'Cato'), ('Willie', 'Cauley-Stein'), ('Wilson', 'Chandler'), ('Tyson', 'Chandler'), ('Chris', 'Chiozza'), ('Marquese', 'Chriss'), ('Ian', 'Clark'), ('Brian', 'Cook'), ('DeMarcus', 'Cousins'), ('Robert', 'Covington'), ('Allen', 'Crabbe'), ('Torrey', 'Craig'), ('Jamal', 'Crawford'), ('Austin', 'Croshere'), ('Jae', 'Crowder'), ('Seth', 'Curry'), ('Eddy', 'Curry'), ('Erick', 'Dampier'), ('Troy', 'Daniels'), ('Marquis', 'Daniels'), ('Baron', 'Davis'), ('Ed', 'Davis'), ('Austin', 'Daye'), ('Dewayne', 'Dedmon'), ('Luol', 'Deng'), ('Boris', 'Diaw'), ('Gorgui', 'Dieng'), ('Spencer', 'Dinwiddie'), ('Ike', 'Diogu'), ('Juan', 'Dixon'), ('Toney', 'Douglas'), ('Chris', 'Douglas-Roberts'), ('Goran', 'Dragic'), ('Andre', 'Drummond'), ('Jared', 'Dudley'), ('Mike', 'Dunleavy'), ('Kris', 'Dunn'), ('Kevin', 'Durant'), ('Jarell', 'Eddie'), ('Wayne', 'Ellington'), ('Monta', 'Ellis'), ('Francisco', 'Elson'), ('Melvin', 'Ely'), ('Tyler', 'Ennis'), ('James', 'Ennis III'), ('Tyreke', 'Evans'), ('Maurice', 'Evans'), ('Reggie', 'Evans'), ('Derrick', 'Favors'), ('Raymond', 'Felton'), ('Bryn', 'Forbes'), ('T.J.', 'Ford'), ('Randy', 'Foye'), ('Steve', 'Francis'), ('Tim', 'Frazier'), ('Enes', 'Freedom'), ('Channing', 'Frye'), ('Wenyen', 'Gabriel'), ('Danilo', 'Gallinari'), ('Kevin', 'Garnett'), ('Pau', 'Gasol'), ('Rudy', 'Gay'), ('Alonzo', 'Gee'), ('Taj', 'Gibson'), ('Ryan', 'Gomes'), ('Drew', 'Gooden'), ('Stephen', 'Graham'), ('Treveon', 'Graham'), ('Danny', 'Granger'), ('Jerami', 'Grant'), ('Gerald', 'Green'), ('Jeff', 'Green'), ('Danny', 'Green'), ('JaMychal', 'Green'), ('Willie', 'Green'), ('Adrian', 'Griffin'), ('Blake', 'Griffin'), ('James', 'Harden'), ('Maurice', 'Harkless'), ('Al', 'Harrington'), ('Tobias', 'Harris'), ('Devin', 'Harris'), ('Josh', 'Hart'), ('Jason', 'Hart'), ('Spencer', 'Hawes'), ('Brendan', 'Haywood'), ('Luther', 'Head'), ('John', 'Henson'), ('Juancho', 'Hernangomez'), ('Roy', 'Hibbert'), ('JJ', 'Hickson'), ('George', 'Hill'), ('Solomon', 'Hill'), ('Aaron', 'Holiday'), ('Justin', 'Holiday'), ('Ryan', 'Hollins'), ('Rodney', 'Hood'), ('Al', 'Horford'), ('Danuel', 'House Jr.'), ('Dwight', 'Howard'), ('Lester', 'Hudson'), ('Larry', 'Hughes'), ('Kris', 'Humphries'), ('Steven', 'Hunter'), ('Serge', 'Ibaka'), ('Andre', 'Iguodala'), ('Ersan', 'Ilyasova'), ('Kyrie', 'Irving'), ('Royal', 'Ivey'), ('Jarrett', 'Jack'), ('Stephen', 'Jackson'), ('Josh', 'Jackson'), ('Justin', 'Jackson'), ('Reggie', 'Jackson'), ('Richard', 'Jefferson'), ('Al', 'Jefferson'), ('DaQuan', 'Jeffries'), ('Brandon', 'Jennings'), ('Amir', 'Johnson'), ('Anthony', 'Johnson'), ('Alize', 'Johnson'), ('James', 'Johnson'), ('Tyler', 'Johnson'), ('Joe', 'Johnson'), ('Linton', 'Johnson'), ('Dwayne', 'Jones'), ('Damian', 'Jones'), ('Fred', 'Jones'), ('Derrick', 'Jones Jr.'), ('DeAndre', 'Jordan'), ('Frank', 'Kaminsky'), ('Brandon', 'Knight'), ('Kyle', 'Korver'), ('Kosta', 'Koufos'), ('Jeremy', 'Lamb'), ('Carl', 'Landry'), ('Acie', 'Law'), ('Caris', 'LeVert'), ('David', 'Lee'), ('Courtney', 'Lee'), ('Alex', 'Len'), ('Meyers', 'Leonard'), ('DeAndre', 'Liggins'), ('Jeremy', 'Lin'), ('Shaun', 'Livingston'), ('Robin', 'Lopez'), ('Kevin', 'Love'), ('Kyle', 'Lowry'), ('John', 'Lucas III'), ('Tyronn', 'Lue'), ('Timothe', 'Luwawu-Cabarrot'), ('Trey', 'Lyles'), ('Corey', 'Maggette'), ('Jamaal', 'Magloire'), ('Ian', 'Mahinmi'), ('Boban', 'Marjanovic'), ('Sean', 'Marks'), ('Kenyon', 'Martin'), ('Kevin', 'Martin'), ('Roger', 'Mason Jr.'), ('Wesley', 'Matthews'), ('Luc', 'Mbah a Moute'), ('Doug', 'McDermott'), ('JaVale', 'McGee'), ('Tracy', 'McGrady'), ('Alfonzo', 'McKinnie'), ('Ben', 'McLemore'), ('Josh', 'McRoberts'), ('Jodie', 'Meeks'), ('Pops', 'Mensah-Bonsu'), ('CJ', 'Miles'), ('Darko', 'Milicic'), ('Mike', 'Miller'), ('Paul', 'Millsap'), ('Nazr', 'Mohammed'), ('Greg', 'Monroe'), ('Jamario', 'Moon'), (\"E'Twaun\", 'Moore'), ('Eric', 'Moreland'), ('Markieff', 'Morris'), ('Marcus', 'Morris Sr.'), ('Anthony', 'Morrow'), ('Timofey', 'Mozgov'), ('Emmanuel', 'Mudiay'), ('Byron', 'Mullens'), ('Troy', 'Murphy'), ('Flip', 'Murray'), ('Mike', 'Muscala'), ('Svi', 'Mykhailiuk'), ('Eduardo', 'Najera'), ('Larry', 'Nance Jr.'), ('Shabazz', 'Napier'), ('Gary', 'Neal'), ('Jameer', 'Nelson'), ('Joakim', 'Noah'), ('Nerlens', 'Noel'), ('Steve', 'Novak'), ('David', 'Nwaba'), ('Shaquille', \"O'Neal\"), ('Jermaine', \"O'Neal\"), ('Lamar', 'Odom'), ('Jahlil', 'Okafor'), ('Emeka', 'Okafor'), ('Victor', 'Oladipo'), ('Kelly', 'Olynyk'), ('Kelly', 'Oubre Jr.'), ('Zaza', 'Pachulia'), ('Jabari', 'Parker'), ('Chris', 'Paul'), ('Elfrid', 'Payton'), ('Gary', 'Payton II'), ('Kendrick', 'Perkins'), ('Morris', 'Peterson'), ('Paul', 'Pierce'), ('Mickael', 'Pietrus'), ('Miles', 'Plumlee'), ('Mason', 'Plumlee'), ('Scot', 'Pollard'), ('Otto', 'Porter Jr.'), ('Kristaps', 'Porzingis'), ('James', 'Posey'), ('Vitaly', 'Potapenko'), ('Josh', 'Powell'), ('Taurean', 'Prince'), ('Vladimir', 'Radmanovic'), ('Shavlik', 'Randolph'), ('Zach', 'Randolph'), ('Theo', 'Ratliff'), ('JJ', 'Redick'), ('Willie', 'Reed'), ('Josh', 'Richardson'), ('Jason', 'Richardson'), ('Luke', 'Ridnour'), ('Austin', 'Rivers'), ('Glenn', 'Robinson III'), ('Isaiah', 'Roby'), ('Rajon', 'Rondo'), ('Derrick', 'Rose'), ('Quinton', 'Ross'), ('Ricky', 'Rubio'), ('Michael', 'Ruffin'), ('Brandon', 'Rush'), ('Kareem', 'Rush'), (\"D'Angelo\", 'Russell'), ('John', 'Salmons'), ('Jamal', 'Sampson'), ('Dario', 'Saric'), ('Tomas', 'Satoransky'), ('Dennis', 'Schroder'), ('Thabo', 'Sefolosha'), ('Ramon', 'Sessions'), ('Iman', 'Shumpert'), ('Cedric', 'Simmons'), ('Jason', 'Smith'), ('Ish', 'Smith'), ('JR', 'Smith'), ('Joe', 'Smith'), ('Dennis', 'Smith Jr.'), ('Tony', 'Snell'), ('Omari', 'Spellman'), ('Jerry', 'Stackhouse'), ('Nik', 'Stauskas'), ('Lance', 'Stephenson'), ('Peja', 'Stojakovic'), (\"Amar'e\", 'Stoudemire'), ('Stromile', 'Swift'), ('Jeff', 'Teague'), ('Sebastian', 'Telfair'), ('Garrett', 'Temple'), ('Jason', 'Terry'), ('Daniel', 'Theis'), ('Isaiah', 'Thomas'), ('Malcolm', 'Thomas'), ('Kurt', 'Thomas'), ('Tristan', 'Thompson'), ('Marcus', 'Thornton'), ('Anthony', 'Tolliver'), ('P.J.', 'Tucker'), ('Ronny', 'Turiaf'), ('Evan', 'Turner'), ('Ekpe', 'Udoh'), ('Beno', 'Udrih'), ('Greivis', 'Vasquez'), ('Noah', 'Vonleh'), ('Dwyane', 'Wade'), ('Von', 'Wafer'), ('Dion', 'Waiters'), ('Kemba', 'Walker'), ('John', 'Wall'), ('Gerald', 'Wallace'), ('C.J.', 'Watson'), ('Earl', 'Watson'), ('David', 'Wesley'), ('David', 'West'), ('Delonte', 'West'), ('Russell', 'Westbrook'), ('Hassan', 'Whiteside'), ('C.J.', 'Wilcox'), ('Chris', 'Wilcox'), ('Marvin', 'Williams'), ('Lou', 'Williams'), ('Troy', 'Williams'), ('Shelden', 'Williams'), ('Shawne', 'Williams'), ('Reggie', 'Williams'), ('Mo', 'Williams'), ('Justise', 'Winslow'), ('Christian', 'Wood'), ('Metta', 'World Peace'), ('Antoine', 'Wright'), ('Delon', 'Wright'), ('Brandan', 'Wright'), ('Jianlian', 'Yi'), ('Thaddeus', 'Young'), ('Tyler', 'Zeller')]\n",
      "      \n",
      "Attempted Query\n",
      "----------------------\n",
      "SELECT first_name, last_name\n",
      "FROM inactive_players\n",
      "GROUP BY player_id\n",
      "HAVING COUNT(DISTINCT team_id) > 3\n",
      "ORDER BY last_name;\n",
      "\n",
      "\n"
     ]
    }
   ],
   "source": [
    "print(f\"\"\"\n",
    "AI Response\n",
    "{response.response}\n",
    "\n",
    "Query Output\n",
    "----------------------\n",
    "{response.source_nodes[0].text}\n",
    "      \n",
    "Attempted Query\n",
    "----------------------\n",
    "{response.metadata['sql_query']}\n",
    "\n",
    "\"\"\")"
   ]
  }
 ],
 "metadata": {
  "kernelspec": {
   "display_name": "venv",
   "language": "python",
   "name": "python3"
  },
  "language_info": {
   "codemirror_mode": {
    "name": "ipython",
    "version": 3
   },
   "file_extension": ".py",
   "mimetype": "text/x-python",
   "name": "python",
   "nbconvert_exporter": "python",
   "pygments_lexer": "ipython3",
   "version": "3.12.3"
  }
 },
 "nbformat": 4,
 "nbformat_minor": 2
}
