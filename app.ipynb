{
 "cells": [
  {
   "cell_type": "code",
   "execution_count": null,
   "metadata": {},
   "outputs": [],
   "source": [
    "! pip install --upgrade --quiet python-dotenv llama-index-llms-openai llama-index llama-index-embeddings-openai"
   ]
  },
  {
   "cell_type": "code",
   "execution_count": 1,
   "metadata": {},
   "outputs": [
    {
     "data": {
      "text/plain": [
       "True"
      ]
     },
     "execution_count": 1,
     "metadata": {},
     "output_type": "execute_result"
    }
   ],
   "source": [
    "from llama_index.core import SQLDatabase, Settings\n",
    "from llama_index.llms.openai import OpenAI\n",
    "from llama_index.core.query_engine import NLSQLTableQueryEngine\n",
    "\n",
    "from sqlalchemy import (\n",
    "    create_engine,\n",
    "    text\n",
    ")\n",
    "\n",
    "import os\n",
    "from dotenv import load_dotenv\n",
    "load_dotenv()"
   ]
  },
  {
   "cell_type": "markdown",
   "metadata": {},
   "source": [
    "### In this document\n",
    "The first few cells go over the general SQL query engine provided by llamaindex. It will demonstrate how to get started via SQL Alchemy and the limitations of NLSQLTableQueryEngine.\n",
    "You will see that because of context window limitations, you will either hit context window limits or the resulting query will not work because of model confusion due to the large amount of tables and/or columns.\n",
    "\n",
    "### The dataset used\n",
    "I chose [this database](https://www.kaggle.com/datasets/wyattowalsh/basketball) from Kaggle because it contained 16 tables with 682 columns. The dataset was Last Updated on Thurs, July 26th, 2023. Download the database and bring the .sqlite file into the directory.\n",
    "\n",
    "### Reference Documentation\n",
    "Im going through [this](https://docs.llamaindex.ai/en/stable/examples/index_structs/struct_indices/duckdb_sql_query/) documentation from Llamaindex for reference."
   ]
  },
  {
   "cell_type": "code",
   "execution_count": 2,
   "metadata": {},
   "outputs": [],
   "source": [
    "# Connecting to the sqlite db and testing the query output\n",
    "db_file = \"sqlite:///olist.sqlite\"\n",
    "engine = create_engine(db_file)"
   ]
  },
  {
   "cell_type": "code",
   "execution_count": 3,
   "metadata": {},
   "outputs": [
    {
     "data": {
      "text/plain": [
       "['product_category_name_translation',\n",
       " 'sellers',\n",
       " 'customers',\n",
       " 'geolocation',\n",
       " 'order_items',\n",
       " 'order_payments',\n",
       " 'order_reviews',\n",
       " 'orders',\n",
       " 'products',\n",
       " 'leads_qualified',\n",
       " 'leads_closed']"
      ]
     },
     "execution_count": 3,
     "metadata": {},
     "output_type": "execute_result"
    }
   ],
   "source": [
    "# Getting all the table names to populate the vector index\n",
    "all_table_names = []\n",
    "with engine.connect() as con:\n",
    "    rows = con.execute(text(\"SELECT name FROM sqlite_master WHERE type='table' AND name NOT LIKE 'sqlite_%';\"))\n",
    "    for row in rows:\n",
    "       all_table_names.append(row[0])\n",
    "all_table_names"
   ]
  },
  {
   "cell_type": "code",
   "execution_count": 4,
   "metadata": {},
   "outputs": [],
   "source": [
    "Settings.llm.model = \"gpt-4-turbo\""
   ]
  },
  {
   "cell_type": "code",
   "execution_count": 5,
   "metadata": {},
   "outputs": [],
   "source": [
    "# Setting up SQL Database using the SQL Alchemy engine above.\n",
    "sql_database = SQLDatabase(engine, include_tables=all_table_names)\n",
    "query_engine = NLSQLTableQueryEngine(sql_database=sql_database)"
   ]
  },
  {
   "cell_type": "code",
   "execution_count": 6,
   "metadata": {},
   "outputs": [],
   "source": [
    "# This is the query that we will use \n",
    "query_str = \"What is the best and worst reviewed product category based on oder reviews?\"\n",
    "simple_sql_response = query_engine.query(query_str)"
   ]
  },
  {
   "cell_type": "code",
   "execution_count": 7,
   "metadata": {},
   "outputs": [
    {
     "name": "stdout",
     "output_type": "stream",
     "text": [
      "\n",
      "AI Response\n",
      "It appears there was an error in executing the SQL query provided. The error message indicates that the SQL statement is invalid. To assist further, I would need to correct the SQL query to ensure it is syntactically correct and properly structured to fetch the desired data. Here’s a revised version of the SQL query:\n",
      "\n",
      "```sql\n",
      "SELECT product_category_name_english, AVG(review_score) AS average_score\n",
      "FROM order_reviews\n",
      "JOIN orders ON order_reviews.order_id = orders.order_id\n",
      "JOIN order_items ON orders.order_id = order_items.order_id\n",
      "JOIN products ON order_items.product_id = products.product_id\n",
      "JOIN product_category_name_translation ON products.product_category_name = product_category_name_translation.product_category_name\n",
      "GROUP BY product_category_name_english\n",
      "ORDER BY average_score DESC;\n",
      "```\n",
      "\n",
      "Please run this corrected query in your database environment. If it executes successfully, it will provide the average review scores for each product category, ordered from highest to lowest. From the results, the product category with the highest average score can be considered the best reviewed, while the one with the lowest average score can be considered the worst reviewed. If you encounter further issues or need additional modifications, feel free to ask.\n",
      "\n",
      "Query Output\n",
      "----------------------\n",
      "Error: Statement 'sql\\nSELECT product_category_name_english, AVG(review_score) AS average_score\\nFROM order_reviews\\nJOIN orders ON order_reviews.order_id = orders.order_id\\nJOIN order_items ON orders.order_id = order_items.order_id\\nJOIN products ON order_items.product_id = products.product_id\\nJOIN product_category_name_translation ON products.product_category_name = product_category_name_translation.product_category_name\\nGROUP BY product_category_name_english\\nORDER BY average_score DESC, product_category_name_english;' is invalid SQL.\n",
      "      \n",
      "Attempted Query\n",
      "----------------------\n",
      "sql\n",
      "SELECT product_category_name_english, AVG(review_score) AS average_score\n",
      "FROM order_reviews\n",
      "JOIN orders ON order_reviews.order_id = orders.order_id\n",
      "JOIN order_items ON orders.order_id = order_items.order_id\n",
      "JOIN products ON order_items.product_id = products.product_id\n",
      "JOIN product_category_name_translation ON products.product_category_name = product_category_name_translation.product_category_name\n",
      "GROUP BY product_category_name_english\n",
      "ORDER BY average_score DESC, product_category_name_english;\n",
      "\n",
      "\n"
     ]
    }
   ],
   "source": [
    "print(f\"\"\"\n",
    "AI Response\n",
    "{simple_sql_response.response}\n",
    "\n",
    "Query Output\n",
    "----------------------\n",
    "{simple_sql_response.source_nodes[0].text}\n",
    "      \n",
    "Attempted Query\n",
    "----------------------\n",
    "{simple_sql_response.metadata['sql_query']}\n",
    "\n",
    "\"\"\")"
   ]
  },
  {
   "cell_type": "code",
   "execution_count": 9,
   "metadata": {},
   "outputs": [
    {
     "name": "stdout",
     "output_type": "stream",
     "text": [
      "Error: (sqlite3.OperationalError) near \"sql\": syntax error\n"
     ]
    }
   ],
   "source": [
    "from sqlalchemy.exc import OperationalError\n",
    "try:\n",
    "    with engine.connect() as con:\n",
    "        rows = con.execute(text(simple_sql_response.metadata['sql_query']))\n",
    "        for row in rows:\n",
    "            print(row)\n",
    "except OperationalError as e:\n",
    "    print(f\"Error: {e.args[0]}\")"
   ]
  }
 ],
 "metadata": {
  "kernelspec": {
   "display_name": "venv",
   "language": "python",
   "name": "python3"
  },
  "language_info": {
   "codemirror_mode": {
    "name": "ipython",
    "version": 3
   },
   "file_extension": ".py",
   "mimetype": "text/x-python",
   "name": "python",
   "nbconvert_exporter": "python",
   "pygments_lexer": "ipython3",
   "version": "3.12.3"
  }
 },
 "nbformat": 4,
 "nbformat_minor": 2
}
